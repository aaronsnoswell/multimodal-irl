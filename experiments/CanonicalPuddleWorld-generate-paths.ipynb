{
 "cells": [
  {
   "cell_type": "markdown",
   "metadata": {},
   "source": [
    "\n",
    "# Generate Paths\n",
    "\n",
    "This notebook generates path sets for a number of experiments on the PuddleWorld domain.\n"
   ]
  },
  {
   "cell_type": "code",
   "execution_count": null,
   "metadata": {},
   "outputs": [],
   "source": [
    "\n",
    "import gym\n",
    "import copy\n",
    "import pickle\n",
    "import warnings\n",
    "\n",
    "import numpy as np\n",
    "import pandas as pd\n",
    "import matplotlib.pyplot as plt\n",
    "\n",
    "from puddle_world.envs import *\n",
    "from explicit_env.soln import value_iteration, q_from_v, OptimalPolicy\n",
    "from unimodal_irl.utils import get_rollouts\n"
   ]
  },
  {
   "cell_type": "code",
   "execution_count": null,
   "metadata": {},
   "outputs": [],
   "source": [
    "\n",
    "# Deterministic, Stochastic environemnts\n",
    "# Wet, Dry, Any modes\n",
    "# 10,000 paths for each instance\n",
    "\n",
    "num_rollouts = 100000\n",
    "rollout_batch_size = 100\n",
    "num_batches = num_rollouts // rollout_batch_size\n",
    "print(f\"Performing {num_batches} batches of rollouts\")\n",
    "for transitions in ['deterministic', 'stochastic']:\n",
    "    if transitions == 'deterministic':\n",
    "        wind = 0.0\n",
    "    else:\n",
    "        wind = 0.2\n",
    "    for mode in ['wet', 'dry', 'any']:\n",
    "        env = CanonicalPuddleWorldEnv(mode=mode, wind=wind)\n",
    "        pi = OptimalPolicy(q_from_v(value_iteration(env), env), stochastic=True)\n",
    "        rollouts = []\n",
    "        for batch in range(num_batches):\n",
    "            print(\".\", end=\"\")\n",
    "            rollouts.extend(get_rollouts(env, pi, rollout_batch_size))\n",
    "        print()\n",
    "        \n",
    "        filename = f\"pw-{transitions}-{mode}.pkl\"\n",
    "        with open(filename, \"wb\") as file:\n",
    "            pickle.dump(rollouts, file)\n"
   ]
  }
 ],
 "metadata": {
  "kernelspec": {
   "display_name": "Python 3",
   "language": "python",
   "name": "python3"
  },
  "language_info": {
   "codemirror_mode": {
    "name": "ipython",
    "version": 3
   },
   "file_extension": ".py",
   "mimetype": "text/x-python",
   "name": "python",
   "nbconvert_exporter": "python",
   "pygments_lexer": "ipython3",
   "version": "3.6.9"
  }
 },
 "nbformat": 4,
 "nbformat_minor": 4
}
